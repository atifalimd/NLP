{
 "cells": [
  {
   "cell_type": "code",
   "execution_count": 2,
   "metadata": {},
   "outputs": [],
   "source": [
    "import speech_recognition as sr\n",
    "r = sr.Recognizer()"
   ]
  },
  {
   "cell_type": "code",
   "execution_count": 5,
   "metadata": {},
   "outputs": [
    {
     "name": "stdout",
     "output_type": "stream",
     "text": [
      "Please say something\n",
      "Time Over, thanks\n"
     ]
    }
   ],
   "source": [
    "with sr.Microphone() as source:\n",
    "    print('Please say something')\n",
    "    audio = r.listen(source)\n",
    "    print('Time Over, thanks')"
   ]
  },
  {
   "cell_type": "code",
   "execution_count": 6,
   "metadata": {},
   "outputs": [
    {
     "name": "stdout",
     "output_type": "stream",
     "text": [
      "result2:\n",
      "{   'alternative': [   {   'confidence': 0.89701623,\n",
      "                           'transcript': 'hello my name is Atif Ali Muhammad'},\n",
      "                       {'transcript': 'hello my name is Atif Ali Mohammed'},\n",
      "                       {'transcript': 'hello my name is Atif Ali Mohamed'},\n",
      "                       {'transcript': 'hello my name is Atif Ali Mohammad'},\n",
      "                       {'transcript': 'hello my name is artafallie Mohammed'}],\n",
      "    'final': True}\n",
      "You said: hello my name is Atif Ali Muhammad\n"
     ]
    }
   ],
   "source": [
    "try:\n",
    "    print(\"You said: \"+r.recognize_google(audio,language = 'en-US'));\n",
    "except:\n",
    "     pass"
   ]
  },
  {
   "cell_type": "code",
   "execution_count": 8,
   "metadata": {},
   "outputs": [
    {
     "name": "stdout",
     "output_type": "stream",
     "text": [
      "Please say something\n",
      "Time Over, thanks\n",
      "result2:\n",
      "{   'alternative': [   {   'confidence': 0.91934985,\n",
      "                           'transcript': 'हेलो मेरा नाम आतिफ अली मोहम्मद है और '\n",
      "                                         'मैं डाटा साइंटिस्ट हूं'},\n",
      "                       {   'transcript': 'हेलो मेरा नाम आसिफ अली मोहम्मद है और '\n",
      "                                         'मैं डाटा साइंटिस्ट हूं'},\n",
      "                       {   'transcript': 'हेलो मेरा नाम आतीफ अली मोहम्मद है और '\n",
      "                                         'मैं डाटा साइंटिस्ट हूं'},\n",
      "                       {   'transcript': 'हेलो मेरा नाम आतिफ अली मोहम्मद है और '\n",
      "                                         'में डाटा साइंटिस्ट हूं'},\n",
      "                       {   'transcript': 'हेलो मेरा नाम आसिफ अली मोहम्मद है और '\n",
      "                                         'में डाटा साइंटिस्ट हूं'}],\n",
      "    'final': True}\n",
      "You said: हेलो मेरा नाम आतिफ अली मोहम्मद है और मैं डाटा साइंटिस्ट हूं\n"
     ]
    }
   ],
   "source": [
    "with sr.Microphone() as source:\n",
    "    print('Please say something')\n",
    "    audio = r.listen(source)\n",
    "    print('Time Over, thanks')\n",
    "try:\n",
    "    print(\"You said: \"+r.recognize_google(audio,language = 'hi-IN'));\n",
    "except:\n",
    "     pass"
   ]
  },
  {
   "cell_type": "code",
   "execution_count": null,
   "metadata": {},
   "outputs": [],
   "source": []
  },
  {
   "cell_type": "code",
   "execution_count": null,
   "metadata": {},
   "outputs": [],
   "source": []
  },
  {
   "cell_type": "code",
   "execution_count": null,
   "metadata": {},
   "outputs": [],
   "source": []
  },
  {
   "cell_type": "code",
   "execution_count": null,
   "metadata": {},
   "outputs": [],
   "source": []
  }
 ],
 "metadata": {
  "kernelspec": {
   "display_name": "venv3.7",
   "language": "python",
   "name": "python3"
  },
  "language_info": {
   "codemirror_mode": {
    "name": "ipython",
    "version": 3
   },
   "file_extension": ".py",
   "mimetype": "text/x-python",
   "name": "python",
   "nbconvert_exporter": "python",
   "pygments_lexer": "ipython3",
   "version": "3.7.16"
  },
  "orig_nbformat": 4
 },
 "nbformat": 4,
 "nbformat_minor": 2
}
